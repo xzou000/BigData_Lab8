{
 "cells": [
  {
   "cell_type": "code",
   "execution_count": 2,
   "metadata": {},
   "outputs": [
    {
     "data": {
      "text/plain": [
       "<pyspark.context.SparkContext at 0x6d0f4e0>"
      ]
     },
     "execution_count": 2,
     "metadata": {},
     "output_type": "execute_result"
    }
   ],
   "source": [
    "sc"
   ]
  },
  {
   "cell_type": "code",
   "execution_count": 3,
   "metadata": {},
   "outputs": [],
   "source": [
    "NYU_rest='nyc_restaurants.csv'"
   ]
  },
  {
   "cell_type": "code",
   "execution_count": 5,
   "metadata": {},
   "outputs": [
    {
     "data": {
      "text/plain": [
       "[(0, 'CAMIS'),\n",
       " (1, 'DBA'),\n",
       " (2, 'BORO'),\n",
       " (3, 'BUILDING'),\n",
       " (4, 'STREET'),\n",
       " (5, 'ZIPCODE'),\n",
       " (6, 'PHONE'),\n",
       " (7, 'CUISINE DESCRIPTION'),\n",
       " (8, 'INSPECTION DATE'),\n",
       " (9, 'ACTION'),\n",
       " (10, 'VIOLATION CODE'),\n",
       " (11, 'VIOLATION DESCRIPTION'),\n",
       " (12, 'CRITICAL FLAG'),\n",
       " (13, 'SCORE'),\n",
       " (14, 'GRADE'),\n",
       " (15, 'GRADE DATE'),\n",
       " (16, 'RECORD DATE'),\n",
       " (17, 'INSPECTION TYPE')]"
      ]
     },
     "execution_count": 5,
     "metadata": {},
     "output_type": "execute_result"
    }
   ],
   "source": [
    "rest = sc.textFile(NYU_rest, use_unicode=False).cache()\n",
    "list(enumerate(rest.first().split(',')))"
   ]
  },
  {
   "cell_type": "code",
   "execution_count": 21,
   "metadata": {},
   "outputs": [],
   "source": [
    "def extractREST(index, lines):\n",
    "    import csv\n",
    "    if index==0:\n",
    "        lines.next()\n",
    "    reader = csv.reader(lines)\n",
    "    for row in reader:\n",
    "        cuisin = row[7]\n",
    "        yield (cuisin, 1)\n",
    "rest_cuisin = rest.mapPartitionsWithIndex(extractREST)"
   ]
  },
  {
   "cell_type": "code",
   "execution_count": 22,
   "metadata": {},
   "outputs": [
    {
     "data": {
      "text/plain": [
       "[('Chicken', 1),\n",
       " ('Jewish/Kosher', 1),\n",
       " ('Caribbean', 1),\n",
       " ('Italian', 1),\n",
       " ('Korean', 1),\n",
       " ('Donuts', 1),\n",
       " ('Sandwiches/Salads/Mixed Buffet', 1),\n",
       " ('American', 1),\n",
       " ('American', 1),\n",
       " ('Juice, Smoothies, Fruit Salads', 1)]"
      ]
     },
     "execution_count": 22,
     "metadata": {},
     "output_type": "execute_result"
    }
   ],
   "source": [
    "rest_cuisin.take(10)"
   ]
  },
  {
   "cell_type": "code",
   "execution_count": 23,
   "metadata": {},
   "outputs": [
    {
     "data": {
      "text/plain": [
       "[('American', 25818),\n",
       " ('Chinese', 11948),\n",
       " ('Pizza', 5341),\n",
       " ('Latin (Cuban, Dominican, Puerto Rican, South & Central American)', 5247),\n",
       " ('Italian', 5069),\n",
       " ('Caf\\xc3\\x83\\xc2\\xa9/Coffee/Tea', 4965),\n",
       " ('Mexican', 4421),\n",
       " ('Japanese', 4242),\n",
       " ('Caribbean', 3817),\n",
       " ('Bakery', 3538)]"
      ]
     },
     "execution_count": 23,
     "metadata": {},
     "output_type": "execute_result"
    }
   ],
   "source": [
    "result=rest_cuisin.reduceByKey(lambda x,y: x+y).sortBy(lambda x: -x[1])\n",
    "result.take(10)"
   ]
  },
  {
   "cell_type": "code",
   "execution_count": null,
   "metadata": {},
   "outputs": [],
   "source": []
  }
 ],
 "metadata": {
  "kernelspec": {
   "display_name": "py27",
   "language": "python",
   "name": "py27"
  },
  "language_info": {
   "codemirror_mode": {
    "name": "ipython",
    "version": 2
   },
   "file_extension": ".py",
   "mimetype": "text/x-python",
   "name": "python",
   "nbconvert_exporter": "python",
   "pygments_lexer": "ipython2",
   "version": "2.7.14"
  }
 },
 "nbformat": 4,
 "nbformat_minor": 2
}
